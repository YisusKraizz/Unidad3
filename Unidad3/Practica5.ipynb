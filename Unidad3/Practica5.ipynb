{
  "nbformat": 4,
  "nbformat_minor": 0,
  "metadata": {
    "colab": {
      "provenance": [],
      "authorship_tag": "ABX9TyPv60dIse0jxV43qQ+0z5X/",
      "include_colab_link": true
    },
    "kernelspec": {
      "name": "python3",
      "display_name": "Python 3"
    },
    "language_info": {
      "name": "python"
    }
  },
  "cells": [
    {
      "cell_type": "markdown",
      "metadata": {
        "id": "view-in-github",
        "colab_type": "text"
      },
      "source": [
        "<a href=\"https://colab.research.google.com/github/YisusKraizz/Unidad3/blob/main/Unidad3/Practica5.ipynb\" target=\"_parent\"><img src=\"https://colab.research.google.com/assets/colab-badge.svg\" alt=\"Open In Colab\"/></a>"
      ]
    },
    {
      "cell_type": "markdown",
      "source": [
        "#Practica 5: Simular La demanda diaria de productos tecnológicos"
      ],
      "metadata": {
        "id": "zb3p48eWy5rW"
      }
    },
    {
      "cell_type": "markdown",
      "source": [
        "##Método de la transformada inversa:\n",
        "\n",
        "Este método se utiliza para generar variables aleatorias de una distribución específica transformando números aleatorios uniformes (0,1) en variables con la distribución deseada.\n",
        "\n",
        "##Distribución Binomial:\n",
        "\n",
        "###Contexto:\n",
        "\n",
        "Modelamos el número de clientes que realizan una compra en una tienda en línea en un día determinado. La tienda recibe, en promedio, 10 visitantes diarios, y la probabilidad de que un visitante compre es del 30%.\n",
        "\n",
        "##Distribución Binomial:\n",
        "\n",
        "Modela el número de éxitos (compras) en un número fijo de ensayos independientes (visitantes), cada uno con dos posibles resultados (compra o no compra) y una probabilidad constante de éxito.\n",
        "\n",
        "𝑛\n",
        ": Número de ensayos (visitantes diarios), en este caso,\n",
        "𝑛\n",
        "=\n",
        "10\n",
        ".\n",
        "\n",
        "𝑝\n",
        ": Probabilidad de éxito (compra), en este caso,\n",
        "𝑝\n",
        "=\n",
        "0.30\n",
        ".\n",
        "\n",
        "La función de probabilidad de la distribución binomial se define como:\n",
        "\n",
        "Pr\n",
        "(\n",
        "𝑋\n",
        "=\n",
        "𝑘\n",
        ")\n",
        "=\n",
        "(\n",
        "𝑛\n",
        "𝑘\n",
        ")\n",
        "𝑝\n",
        "𝑘\n",
        "(\n",
        "1\n",
        "−\n",
        "𝑝\n",
        ")\n",
        "𝑛\n",
        "−\n",
        "𝑘\n",
        "donde\n",
        "𝑘\n",
        " es el número de clientes que compran.\n",
        "\n",
        "##Método de la Transformada Inversa:\n",
        "\n",
        "Genera números aleatorios con una distribución específica, como la binomial, a partir de números aleatorios uniformes\n",
        "𝑈\n",
        "∼\n",
        "(\n",
        "0\n",
        ",\n",
        "1\n",
        ")\n",
        ".\n",
        "\n",
        "Pasos:\n",
        "\n",
        "##Generar un número aleatorio uniforme\n",
        "𝑈\n",
        ".\n",
        "\n",
        "Calcular la función de distribución acumulada (FDA) de la distribución binomial sumando las probabilidades acumuladas para valores de\n",
        "𝑘\n",
        "=\n",
        "0\n",
        ",\n",
        "1\n",
        ",\n",
        "2\n",
        ",\n",
        ".\n",
        ".\n",
        ".\n",
        ".\n",
        "\n",
        "Encontrar el valor más pequeño de\n",
        "𝑘\n",
        " tal que\n",
        "𝐹\n",
        "(\n",
        "𝑘\n",
        ")\n",
        "≥\n",
        "𝑈\n",
        ". Este valor de\n",
        "𝑘\n",
        " es el número de clientes que compran en ese día.\n",
        "\n",
        "Explicación de los resultados:\n",
        "\n",
        "En cada simulación, se genera un número aleatorio uniforme\n",
        "𝑈\n",
        " que se transforma mediante el método de la transformada inversa para obtener el número de clientes que compraron en ese día. La gráfica resultante de las 100 simulaciones refleja la probabilidad de distintas cantidades de compras, con un promedio cercano a\n",
        "𝑛\n",
        "𝑝\n",
        "=\n",
        "10\n",
        "×\n",
        "0.30\n",
        "=\n",
        "3\n",
        ".\n",
        "\n",
        "El método de la transformada inversa aplicado a la distribución binomial es útil para modelar situaciones con una probabilidad constante de éxito en eventos independientes, como las compras en una tienda en línea."
      ],
      "metadata": {
        "id": "3A-cDXTizIqK"
      }
    },
    {
      "cell_type": "markdown",
      "source": [
        "#Ejemplo aplicado en Python\n"
      ],
      "metadata": {
        "id": "5SpWtLMOzUqG"
      }
    },
    {
      "cell_type": "code",
      "execution_count": 1,
      "metadata": {
        "colab": {
          "base_uri": "https://localhost:8080/",
          "height": 528
        },
        "id": "BBnR9fHOyh14",
        "outputId": "66a8eaac-8417-42bc-94c2-cd6b5b646e2c"
      },
      "outputs": [
        {
          "output_type": "stream",
          "name": "stdout",
          "text": [
            "Número de clientes que realizaron una compra en cada simulación (día):\n",
            "[3, 3, 2, 3, 2, 3, 3, 2, 3, 3, 1, 3, 4, 4, 3, 7, 3, 2, 4, 3, 0, 0, 5, 2, 5, 2, 1, 3, 2, 2, 2, 3, 3, 3, 5, 6, 1, 2, 0, 2, 2, 0, 5, 6, 5, 2, 4, 3, 1, 4, 2, 1, 4, 2, 4, 7, 2, 4, 1, 1, 2, 5, 4, 5, 5, 2, 2, 2, 2, 3, 6, 4, 4, 0, 1, 2, 2, 4, 4, 2, 4, 3, 4, 5, 3, 4, 3, 2, 4, 5, 3, 3, 1, 1, 4, 4, 1, 4, 3, 2]\n"
          ]
        },
        {
          "output_type": "display_data",
          "data": {
            "text/plain": [
              "<Figure size 640x480 with 1 Axes>"
            ],
            "image/png": "[encoded data removed]"
          },
          "metadata": {}
        }
      ],
      "source": [
        "import numpy as np\n",
        "import matplotlib.pyplot as plt\n",
        "from math import comb\n",
        "\n",
        "# Parámetros de la distribución binomial\n",
        "n = 10  # Número de visitantes diarios\n",
        "p = 0.30 # Probabilidad de que un visitante realice una compra\n",
        "\n",
        "# Generar un número aleatorio uniforme U ~ Uniform(0, 1)\n",
        "num_simulaciones = 100  # Número de simulaciones (días)\n",
        "U = np.random.uniform(0, 1, num_simulaciones)\n",
        "\n",
        "# Función de distribución acumulada de la distribución binomial\n",
        "def binomial_pmf(n, k, p):\n",
        "    return comb(n, k) * (p**k) * ((1 - p)**(n - k))\n",
        "\n",
        "def binomial_inverse_transform(n, p, U):\n",
        "    F_k = 0  # Inicializamos la FDA\n",
        "    k = 0\n",
        "    while True:\n",
        "        F_k += binomial_pmf(n, k, p)  # Sumamos la probabilidad hasta que F(k) >= U\n",
        "        if U <= F_k:\n",
        "            return k  # Este valor de k es el número de clientes que hicieron una compra\n",
        "        k += 1\n",
        "\n",
        "# Generar la cantidad de clientes que realizaron una compra en cada simulación (día)\n",
        "compras_simuladas = [binomial_inverse_transform(n, p, u) for u in U]\n",
        "\n",
        "# Mostrar resultados\n",
        "print(\"Número de clientes que realizaron una compra en cada simulación (día):\")\n",
        "print(compras_simuladas)\n",
        "\n",
        "# Graficar los resultados\n",
        "plt.hist(compras_simuladas, bins=np.arange(min(compras_simuladas), max(compras_simuladas) + 2) - 0.5, edgecolor='black', color='lightcoral', alpha=0.7)\n",
        "plt.title(\"Simulación de número de compras diarias (Distribución Binomial)\")\n",
        "plt.xlabel(\"Número de compras\")\n",
        "plt.ylabel(\"Frecuencia\")\n",
        "plt.grid(axis='y', linestyle='--', linewidth=0.7)\n",
        "plt.show()\n"
      ]
    },
    {
      "cell_type": "markdown",
      "source": [
        "#Conclusión\n",
        "\n",
        "Este enfoque ayuda a prever y planificar el inventario de manera más efectiva, optimizando los recursos y mejorando la toma de decisiones en la gestión de la tienda. La simulación muestra cómo se distribuye la cantidad de compras diarias, permitiendo ajustes precisos en estrategias de marketing y gestión de inventarios. En definitiva, este método y el código proporcionan una herramienta valiosa para mejorar la eficiencia y rentabilidad de una tienda en línea."
      ],
      "metadata": {
        "id": "VZs56LLOzpqK"
      }
    }
  ]
}